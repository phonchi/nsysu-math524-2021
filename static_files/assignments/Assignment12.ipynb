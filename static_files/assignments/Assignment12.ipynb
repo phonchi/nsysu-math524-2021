{
 "cells": [
  {
   "cell_type": "markdown",
   "metadata": {},
   "source": [
    "# Assignment 12"
   ]
  },
  {
   "cell_type": "markdown",
   "metadata": {},
   "source": [
    "#### Student ID: *Double click here to fill the Student ID*\n",
    "\n",
    "#### Name: *Double click here to fill the name*\n",
    "\n",
    "部分習題需要寫數學式。\n",
    "\n",
    "若不想用打的，可用手寫後，進行拍照或掃描，並使用以下指令引入圖片。\n",
    "\n",
    "請確認圖片清晰程度為可辨識。\n",
    "\n",
    "`![title](test.png)`"
   ]
  },
  {
   "cell_type": "markdown",
   "metadata": {},
   "source": [
    "## Chapter 9"
   ]
  },
  {
   "cell_type": "markdown",
   "metadata": {},
   "source": [
    "## 5\n",
    "We have seen that we can fit an **SVM** with a non-linear kernel in order to perform classification using a non-linear decision boundary.We will now see that we can also obtain a non-linear decision boundary by performing logistic regression using non linear transformations of the features."
   ]
  },
  {
   "cell_type": "markdown",
   "metadata": {},
   "source": [
    "(g) Fit a support vector classifier to the data with $X_1$ and $X_2$ as\n",
    "predictors. Obtain a class prediction for each training observation.\n",
    "Plot the observations, colored according to the predicted\n",
    "class labels."
   ]
  },
  {
   "cell_type": "code",
   "execution_count": null,
   "metadata": {},
   "outputs": [],
   "source": [
    "# coding your answer here."
   ]
  },
  {
   "cell_type": "markdown",
   "metadata": {},
   "source": [
    "(h) Fit a SVM using a non-linear kernel to the data. Obtain a class\n",
    "prediction for each training observation. Plot the observations,\n",
    "colored according to the predicted class labels."
   ]
  },
  {
   "cell_type": "code",
   "execution_count": null,
   "metadata": {},
   "outputs": [],
   "source": [
    "# coding your answer here."
   ]
  },
  {
   "cell_type": "markdown",
   "metadata": {},
   "source": [
    "(i) Comment on your results."
   ]
  },
  {
   "cell_type": "markdown",
   "metadata": {},
   "source": [
    "> Ans: *double click here to answer the question.*"
   ]
  },
  {
   "cell_type": "markdown",
   "metadata": {},
   "source": [
    "## 8\n",
    "This problem involves the `OJ` data set which is part of the `ISLR2`\n",
    "package."
   ]
  },
  {
   "cell_type": "markdown",
   "metadata": {},
   "source": [
    "(a) Create a training set containing a random sample of 800\n",
    "observations, and a test set containing the remaining\n",
    "observations."
   ]
  },
  {
   "cell_type": "code",
   "execution_count": null,
   "metadata": {},
   "outputs": [],
   "source": [
    "# coding your answer here."
   ]
  },
  {
   "cell_type": "markdown",
   "metadata": {},
   "source": [
    "(b) Fit a support vector classifier to the training data using\n",
    "`C = 0.05`, with `Purchase` as the response and the other variables\n",
    "as predictors. Print the number of support vectors for each class and the indices of support vectors, and describe the results obtained."
   ]
  },
  {
   "cell_type": "code",
   "execution_count": null,
   "metadata": {},
   "outputs": [],
   "source": [
    "# coding your answer here."
   ]
  },
  {
   "cell_type": "markdown",
   "metadata": {},
   "source": [
    "(c) What are the training and test error rates?"
   ]
  },
  {
   "cell_type": "code",
   "execution_count": null,
   "metadata": {},
   "outputs": [],
   "source": [
    "# coding your answer here."
   ]
  },
  {
   "cell_type": "markdown",
   "metadata": {},
   "source": [
    "(d) Use the `GridSearchCV()` function to select an optimal `C`. Consider values\n",
    "in the range 0.01 to 10."
   ]
  },
  {
   "cell_type": "code",
   "execution_count": null,
   "metadata": {},
   "outputs": [],
   "source": [
    "# coding your answer here."
   ]
  },
  {
   "cell_type": "markdown",
   "metadata": {},
   "source": [
    "(e) Compute the training and test error rates using this new value\n",
    "for `C`."
   ]
  },
  {
   "cell_type": "code",
   "execution_count": null,
   "metadata": {},
   "outputs": [],
   "source": [
    "# coding your answer here."
   ]
  },
  {
   "cell_type": "markdown",
   "metadata": {},
   "source": [
    "(f) Repeat parts (b) through (e) using a support vector machine\n",
    "with a radial kernel. Use the default value for `gamma`."
   ]
  },
  {
   "cell_type": "code",
   "execution_count": null,
   "metadata": {},
   "outputs": [],
   "source": [
    "# coding your answer here."
   ]
  },
  {
   "cell_type": "markdown",
   "metadata": {},
   "source": [
    "(g) Repeat parts (b) through (e) using a support vector machine\n",
    "with a polynomial kernel. Set `degree = 2`."
   ]
  },
  {
   "cell_type": "code",
   "execution_count": null,
   "metadata": {},
   "outputs": [],
   "source": [
    "# coding your answer here."
   ]
  },
  {
   "cell_type": "markdown",
   "metadata": {},
   "source": [
    "(h) Overall, which approach seems to give the best results on this\n",
    "data?"
   ]
  },
  {
   "cell_type": "code",
   "execution_count": null,
   "metadata": {},
   "outputs": [],
   "source": [
    "# coding your answer here."
   ]
  },
  {
   "cell_type": "markdown",
   "metadata": {},
   "source": [
    "## Chapter 12"
   ]
  },
  {
   "cell_type": "markdown",
   "metadata": {},
   "source": [
    "## 6\n",
    "We saw in Section 12.2.2 that the principal component loading and\n",
    "score vectors provide an approximation to a matrix, in the sense of\n",
    "(12.5). Specifically, the principal component score and loading vectors\n",
    "solve the optimization problem given in (12.6).\n",
    "\n",
    "Now, suppose that theM principal component score vectors $z_{im}, m =\n",
    "1, \\dots ,M$, are known. Using (12.6), explain that the first M principal\n",
    "component loading vectors $\\phi_{jm}$, $m = 1, \\dots ,M$, can be obtaining\n",
    "by performing $M$ separate least squares linear regressions. In each\n",
    "regression, the principal component score vectors are the predictors,\n",
    "and one of the features of the data matrix is the response."
   ]
  },
  {
   "cell_type": "markdown",
   "metadata": {},
   "source": [
    "> Ans: *double click here to answer the question.*"
   ]
  },
  {
   "cell_type": "markdown",
   "metadata": {},
   "source": [
    "## 8\n",
    "In Section 12.2.3, a formula for calculating PVE was given in Equation\n",
    "12.10. We also saw that the PVE can be obtained using the `explained_variance_ratio_` output of the `PCA()` function.\n",
    "\n",
    "On the `USArrests` data, calculate PVE in two ways:"
   ]
  },
  {
   "cell_type": "markdown",
   "metadata": {},
   "source": [
    "(a) Using the `explained_variance_ratio_` output of the `PCA()` function, as was done in Section 12.2.3."
   ]
  },
  {
   "cell_type": "code",
   "execution_count": null,
   "metadata": {},
   "outputs": [],
   "source": [
    "# coding your answer here."
   ]
  },
  {
   "cell_type": "markdown",
   "metadata": {},
   "source": [
    "(b) By applying Equation 12.10 directly. That is, use the `PCA()` function to compute the principal component loadings. Then, use those loadings in Equation 12.10 to obtain the PVE."
   ]
  },
  {
   "cell_type": "code",
   "execution_count": null,
   "metadata": {},
   "outputs": [],
   "source": [
    "# coding your answer here."
   ]
  }
 ],
 "metadata": {
  "kernelspec": {
   "display_name": "Python 3",
   "language": "python",
   "name": "python3"
  },
  "language_info": {
   "codemirror_mode": {
    "name": "ipython",
    "version": 3
   },
   "file_extension": ".py",
   "mimetype": "text/x-python",
   "name": "python",
   "nbconvert_exporter": "python",
   "pygments_lexer": "ipython3",
   "version": "3.8.3"
  }
 },
 "nbformat": 4,
 "nbformat_minor": 4
}
