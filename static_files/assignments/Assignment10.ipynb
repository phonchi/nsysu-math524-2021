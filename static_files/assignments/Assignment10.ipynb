{
 "cells": [
  {
   "cell_type": "markdown",
   "metadata": {},
   "source": [
    "# Assignment 10\n",
    "## Chapter 8"
   ]
  },
  {
   "cell_type": "markdown",
   "metadata": {},
   "source": [
    "#### Student ID: *Double click here to fill the Student ID*\n",
    "\n",
    "#### Name: *Double click here to fill the name*\n",
    "\n",
    "部分習題需要寫數學式。\n",
    "\n",
    "若不想用打的，可用手寫後，進行拍照或掃描，並使用以下指令引入圖片。\n",
    "\n",
    "請確認圖片清晰程度為可辨識。\n",
    "\n",
    "`![title](test.png)`"
   ]
  },
  {
   "cell_type": "markdown",
   "metadata": {},
   "source": [
    "## 1\n",
    "Draw an example (of your own invention) of a partition of two dimensional\n",
    "feature space that could result from recursive binary splitting. Your example should contain at least six regions. Draw a decision tree corresponding to this partition. Be sure to label all aspects of your figures, including the regions $R_1,R_2, \\dots,$ the cutpoints $t_1, t_2, \\dots,$ and so forth.\n",
    "\n",
    "Hint: Your result should look something like Figures 8.1 and 8.2."
   ]
  },
  {
   "cell_type": "markdown",
   "metadata": {},
   "source": [
    "> Ans: *double click here to answer the question.*"
   ]
  },
  {
   "cell_type": "markdown",
   "metadata": {},
   "source": [
    "## 5\n",
    "Suppose we produce ten bootstrapped samples from a data set\n",
    "containing red and green classes. We then apply a classification tree\n",
    "to each bootstrapped sample and, for a specific value of $X$, produce\n",
    "10 estimates of $P(\\text{Class is Red}|X)$:\n",
    "\n",
    "$$\n",
    "0.1, 0.15, 0.2, 0.2, 0.55, 0.6, 0.6, 0.65, 0.7, \\text{and}\\ 0.75.\n",
    "$$\n",
    "\n",
    "There are two common ways to combine these results together into a\n",
    "single class prediction. One is the majority vote approach discussed in\n",
    "this chapter. The second approach is to classify based on the average\n",
    "probability. In this example, what is the final classification under each\n",
    "of these two approaches?"
   ]
  },
  {
   "cell_type": "markdown",
   "metadata": {},
   "source": [
    "> Ans: *double click here to answer the question.*"
   ]
  },
  {
   "cell_type": "markdown",
   "metadata": {},
   "source": [
    "## 8\n",
    "In the lab, a classification tree was applied to the `Carseats` data set after converting `Sales` into a qualitative response variable. Now we will seek to predict `Sales` using regression trees and related approaches, treating the response as a quantitative variable."
   ]
  },
  {
   "cell_type": "markdown",
   "metadata": {},
   "source": [
    "(d) Use the bagging approach in order to analyze this data. What\n",
    "test MSE do you obtain? Use the `feature_importances_` attribute to determine\n",
    "which variables are most important."
   ]
  },
  {
   "cell_type": "code",
   "execution_count": null,
   "metadata": {},
   "outputs": [],
   "source": [
    "# coding your answer here."
   ]
  },
  {
   "cell_type": "markdown",
   "metadata": {},
   "source": [
    "(e) Use random forests to analyze this data. What test MSE do you\n",
    "obtain? Use the `feature_importances_` attribute to determine which variables\n",
    "are most important. Describe the effect of m, the number of\n",
    "variables considered at each split, on the error rate\n",
    "obtained."
   ]
  },
  {
   "cell_type": "code",
   "execution_count": null,
   "metadata": {},
   "outputs": [],
   "source": [
    "# coding your answer here."
   ]
  },
  {
   "cell_type": "markdown",
   "metadata": {},
   "source": [
    "> Ans: *double click here to answer the question.*"
   ]
  },
  {
   "cell_type": "markdown",
   "metadata": {},
   "source": [
    "(f) Now analyze the data using `bartpy` package, and report your results."
   ]
  },
  {
   "cell_type": "code",
   "execution_count": null,
   "metadata": {},
   "outputs": [],
   "source": [
    "# coding your answer here."
   ]
  },
  {
   "cell_type": "markdown",
   "metadata": {},
   "source": [
    "> Ans: *double click here to answer the question.*"
   ]
  },
  {
   "cell_type": "markdown",
   "metadata": {},
   "source": [
    "## 11\n",
    "This question uses the `Caravan` data set."
   ]
  },
  {
   "cell_type": "markdown",
   "metadata": {},
   "source": [
    "(a) Create a training set consisting of the first 1,000 observations,\n",
    "and a test set consisting of the remaining observations."
   ]
  },
  {
   "cell_type": "code",
   "execution_count": null,
   "metadata": {},
   "outputs": [],
   "source": [
    "# coding your answer here."
   ]
  },
  {
   "cell_type": "markdown",
   "metadata": {},
   "source": [
    "(b) Fit a boosting model to the training set with `Purchase` as the\n",
    "response and the other variables as predictors. Use 1,000 trees,\n",
    "and a shrinkage value of 0.01. Which predictors appear to be\n",
    "the most important?"
   ]
  },
  {
   "cell_type": "code",
   "execution_count": null,
   "metadata": {},
   "outputs": [],
   "source": [
    "# coding your answer here."
   ]
  },
  {
   "cell_type": "markdown",
   "metadata": {},
   "source": [
    "> Ans: *double click here to answer the question.*"
   ]
  },
  {
   "cell_type": "markdown",
   "metadata": {},
   "source": [
    "(c) Use the boosting model to predict the response on the test data.\n",
    "Predict that a person will make a purchase if the estimated probability\n",
    "of purchase is greater than 20 %. Form a confusion matrix.\n",
    "What fraction of the people predicted to make a purchase\n",
    "do in fact make one? How does this compare with the results\n",
    "obtained from applying KNN or logistic regression to this data\n",
    "set?"
   ]
  },
  {
   "cell_type": "code",
   "execution_count": null,
   "metadata": {},
   "outputs": [],
   "source": [
    "# coding your answer here."
   ]
  },
  {
   "cell_type": "markdown",
   "metadata": {},
   "source": [
    "> Ans: *double click here to answer the question.*"
   ]
  }
 ],
 "metadata": {
  "kernelspec": {
   "display_name": "Python 3",
   "language": "python",
   "name": "python3"
  },
  "language_info": {
   "codemirror_mode": {
    "name": "ipython",
    "version": 3
   },
   "file_extension": ".py",
   "mimetype": "text/x-python",
   "name": "python",
   "nbconvert_exporter": "python",
   "pygments_lexer": "ipython3",
   "version": "3.8.3"
  }
 },
 "nbformat": 4,
 "nbformat_minor": 4
}
